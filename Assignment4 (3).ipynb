{
  "nbformat": 4,
  "nbformat_minor": 0,
  "metadata": {
    "colab": {
      "provenance": []
    },
    "kernelspec": {
      "name": "python3",
      "display_name": "Python 3"
    },
    "language_info": {
      "name": "python"
    }
  },
  "cells": [
    {
      "cell_type": "code",
      "source": [
        "from google.colab import drive\n",
        "drive.mount('/content/gdrive')\n",
        "\n",
        "#Use to import pandas\n",
        "import pandas as pd\n",
        "\n",
        "from sklearn.neighbors import KNeighborsClassifier\n",
        "from sklearn.metrics import accuracy_score\n",
        "import matplotlib.pyplot as plt\n",
        "from sklearn.model_selection import train_test_split\n",
        "\n",
        "import numpy as np\n",
        "#Use to import the file into google Colab drive\n",
        "from google.colab import files \n",
        "#Use to import io, which opens the file from the Colab drive\n",
        "import io\n",
        "\n",
        "\n"
      ],
      "metadata": {
        "colab": {
          "base_uri": "https://localhost:8080/"
        },
        "id": "Rz0vTHMbMLT7",
        "outputId": "b5a993d4-b0fa-4d20-9b0e-11e4c50e0bc0"
      },
      "execution_count": null,
      "outputs": [
        {
          "output_type": "stream",
          "name": "stdout",
          "text": [
            "Mounted at /content/gdrive\n"
          ]
        }
      ]
    },
    {
      "cell_type": "code",
      "source": [
        "#KNN classifier using scikit learn that prints the accuracy\n",
        "def KNN_classifier(array_data, array_label):\n",
        "\n",
        "  data_train, data_validate, target_train, target_validate = train_test_split(array_data, array_label, test_size = 0.3)\n",
        "  classifier = KNeighborsClassifier(n_neighbors=1)\n",
        "\n",
        "  classifier.fit(data_train, target_train)\n",
        "\n",
        "  predicted = classifier.predict(data_validate)\n",
        "  accuracy = accuracy_score(target_validate, predicted)\n",
        "  print(accuracy)"
      ],
      "metadata": {
        "id": "UauMAFm4-wCr"
      },
      "execution_count": null,
      "outputs": []
    },
    {
      "cell_type": "code",
      "source": [
        "#dimensionality reduction function\n",
        "\n",
        "def myPCA(X):\n",
        "  # This implementation assumes the input is N x M, where N is the number of features, and M is the number of training examples\n",
        "  \n",
        "#gets the number of features that a single training example has     (dimension of your featue space)\n",
        "  N = X.shape[0] \n",
        "\n",
        "#gets the number of training examples in your input data\n",
        "  M = X.shape[1]\n",
        "\n",
        "#computes the mean of each feature in your feature space across all the training examples and reshapes it as a column vector with N rows\n",
        "  mu = np.reshape( np.mean(X,axis=1) , [N,1] )\n",
        "\n",
        "#computes matrix Z which is used when finding the covariance matrix to avoid summation\n",
        "  Z = (1/np.sqrt(M)) * (X - mu)\n",
        "\n",
        "#compares the number of features N to the number of training examples M\n",
        "  if M > N:\n",
        "\n",
        "#computes Z.Ztransponse and returns the corresponding eigen values and the unit eigen values\n",
        "    lamb , W = np.linalg.eig( np.matmul(Z, np.transpose(Z)))\n",
        "\n",
        "  else:\n",
        "#computes Ztransponse.Z and returns the corresponding eigen values and the unit eigen values\n",
        "    lamb , V = np.linalg.eig( np.matmul(np.transpose(Z), Z))\n",
        "\n",
        "#multiplies the eigen vectors of Ztranspose.Z with Z\n",
        "    W = np.matmul( Z , V)\n",
        "\n",
        "#normalizes the eigen vectors since we're only interested in direction\n",
        "    normFactor = np.sqrt( np.sum( np.square(W), axis=0))\n",
        "    W = W / normFactor \n",
        "  \n",
        "#returns an array of indices to sort the array of eigen values\n",
        "  idx = np.argsort(lamb)\n",
        "#sorts the array of eigen values in descending order      \n",
        "  idx = idx[::-1]\n",
        "  lamb = lamb[idx]\n",
        "#sorts the eigen vector matrix according to the order of the corresponding eigen value\n",
        "  W = W[:,idx]\n",
        "#returns the sorted eigen vecor and eigen value and the mean\n",
        "  return W , lamb, mu "
      ],
      "metadata": {
        "id": "R8jN6jxikAwO"
      },
      "execution_count": null,
      "outputs": []
    },
    {
      "cell_type": "code",
      "source": [
        "train_data = pd.read_csv(r'/content/gdrive/My Drive/HW-4//HW-4/dataset/train_data.csv', header=None)\n",
        "\n",
        "train_label = pd.read_csv(r'/content/gdrive/My Drive/HW-4//HW-4/dataset/train_labels.csv', header=None)\n",
        "\n",
        "#retrieves and converts the dataframe to a numpy array\n",
        "x_train = train_data.iloc[:, :]\n",
        "y_train = train_label.iloc[:, :-1]\n",
        "\n",
        "#converts the training data to a numpy array and stores it\n",
        "array_data_train = x_train.to_numpy()\n",
        "array_label_train = y_train.to_numpy()\n",
        "array_label_train = array_label_train.ravel()\n",
        "\n",
        "\n",
        "#stores the mean, eigen vector and eigen value matrices from the PCA function\n",
        "eigen_vector_train, eigen_value_train, mean_train = myPCA(np.transpose(array_data_train))\n",
        "\n",
        "print(np.shape(eigen_vector_train))\n",
        "print(eigen_value_train[0])\n",
        "\n",
        "#reshapes the eigen value array and 1, 100\n",
        "eigen_value_train = np.reshape(eigen_value_train, [1, eigen_value_train.shape[0]])\n"
      ],
      "metadata": {
        "colab": {
          "base_uri": "https://localhost:8080/"
        },
        "id": "NgHoj5wfjb_g",
        "outputId": "80b661df-9672-43f9-81f2-005f7a368535"
      },
      "execution_count": null,
      "outputs": [
        {
          "output_type": "stream",
          "name": "stdout",
          "text": [
            "(10000, 100)\n",
            "28118532.839856558\n"
          ]
        }
      ]
    },
    {
      "cell_type": "markdown",
      "source": [
        "c. I had 100 eigen vectors vectors each with a dimensionality of (9999, 1). Similarly, I had 100 eigen values and the highest eigen value is 28118532.839856558"
      ],
      "metadata": {
        "id": "DOno2g03PFRO"
      }
    },
    {
      "cell_type": "code",
      "source": [
        "#computes the total sum of all the eigen_values returned\n",
        "sum_eigen = np.sum(eigen_value_train)\n",
        "\n",
        "eigen_spectrum = eigen_value_train/sum_eigen;\n",
        "\n",
        "#graph of the eigen spectrum\n",
        "x_axis = np.reshape(np.arange(1, eigen_value_train.shape[1] + 1), [1, 100])\n",
        "\n",
        "y_axis = np.reshape(eigen_spectrum, [1, 100])\n",
        "\n",
        "x_axis = x_axis[0]\n",
        "y_axis = y_axis[0]\n",
        "plt.plot(x_axis, y_axis, linewidth=2, c=\"red\")\n",
        "\n",
        "plt.title(\"Eigen Spectrum\")\n",
        "plt.xlabel(\"jth eigen vector\")\n",
        "plt.ylabel(\"Proportion of variance\")\n",
        "plt.show()\n"
      ],
      "metadata": {
        "id": "IkTBJIlO1DAL"
      },
      "execution_count": null,
      "outputs": []
    },
    {
      "cell_type": "code",
      "source": [
        "#calculates the cumulative sum of the eigen spectrum array\n",
        "cumulative_sum = np.cumsum(eigen_value_train/sum_eigen)\n",
        "\n",
        "#graphs the cumulative eigen spectrum\n",
        "x_axis = np.reshape(np.arange(1, eigen_value_train.shape[1] + 1), [1, 100])\n",
        "\n",
        "y_axis = np.reshape(cumulative_sum, [1, 100])\n",
        "\n",
        "x_axis = x_axis[0]\n",
        "y_axis = y_axis[0]\n",
        "\n",
        "plt.plot(x_axis, y_axis, linewidth=2, c=\"red\")\n",
        "\n",
        "plt.title(\"Cumulative Eigen Spectrum\")\n",
        "plt.xlabel(\"First j eigen vectors\")\n",
        "plt.ylabel(\"Proportion of variance\")\n",
        "plt.show()\n"
      ],
      "metadata": {
        "id": "az6U5Ows-VaM",
        "colab": {
          "base_uri": "https://localhost:8080/",
          "height": 295
        },
        "outputId": "d667d100-2953-43f0-ce4e-89de5de39e0e"
      },
      "execution_count": null,
      "outputs": [
        {
          "output_type": "display_data",
          "data": {
            "text/plain": [
              "<Figure size 432x288 with 1 Axes>"
            ],
            "image/png": "[encoded data removed]"
          },
          "metadata": {
            "needs_background": "light"
          }
        }
      ]
    },
    {
      "cell_type": "code",
      "source": [
        "#computes and returns the minimum number of vectors needed to capture a certain proportion of the variance\n",
        "def compute_vectors(energy_vector, percentage):\n",
        "  cumulative_sum = np.cumsum(energy_vector)\n",
        "  \n",
        "  num_vectors = 1;\n",
        "  while (cumulative_sum[num_vectors-1] < percentage):\n",
        "    num_vectors += 1\n",
        "\n",
        "  return num_vectors"
      ],
      "metadata": {
        "id": "jTPyI6xpN9vx"
      },
      "execution_count": null,
      "outputs": []
    },
    {
      "cell_type": "code",
      "source": [
        "#computes and prints the minimum number of vectors needed to capture 90% of the variance\n",
        "result = compute_vectors(eigen_value_train/sum_eigen, 0.9)\n",
        "\n",
        "print(result)\n"
      ],
      "metadata": {
        "colab": {
          "base_uri": "https://localhost:8080/"
        },
        "id": "L_Gu-aWi8SMy",
        "outputId": "a303b66a-d082-40d4-b220-d0a7edb2373d"
      },
      "execution_count": null,
      "outputs": [
        {
          "output_type": "stream",
          "name": "stdout",
          "text": [
            "19\n"
          ]
        }
      ]
    },
    {
      "cell_type": "code",
      "source": [
        "test_data = pd.read_csv(r'/content/gdrive/My Drive/HW-4//HW-4/dataset/test_data.csv', header=None)\n",
        "\n",
        "test_label = pd.read_csv('/content/gdrive/MyDrive/HW-4//HW-4/dataset/test_labels.csv', header=None)\n",
        "\n",
        "#retrieves and converts the dataframe to a numpy array\n",
        "x_test = test_data.iloc[:, :-1]\n",
        "y_test = test_label.iloc[:, [-1]]\n",
        "\n",
        "\n",
        "array_data_test = x_test.to_numpy()\n",
        "array_label_test = y_test.to_numpy()\n",
        "array_label_test = array_label_test.ravel()\n",
        "\n",
        "#extracts the first L eigen vectors\n",
        "def reduce_dimension(L, W):\n",
        "  w_prime = W[:, :L ]\n",
        "  return w_prime;\n",
        "\n",
        "#stores the mean, eigen vector and eigen value matrices from the PCA function\n",
        "eigen_vector_test, eigen_value_test, mean_train = myPCA(np.transpose(array_data_test))\n",
        "\n",
        "\n",
        "w_reduced = reduce_dimension(1, eigen_vector_test)\n",
        "\n",
        "#computes the low dimensional representation of the training and test data\n",
        "test_data_reduced = np.matmul(np.transpose(w_reduced), np.transpose(array_data_test))\n",
        "train_data_reduced = np.matmul(np.transpose(w_reduced), np.transpose(array_data_test))\n",
        "\n",
        "print(np.shape(test_data_reduced))\n",
        "print(np.shape(train_data_reduced))\n",
        "\n",
        "#KNN classifier for test data\n",
        "KNN_classifier(array_data_test, array_label_test)\n",
        "\n",
        "#KNN classifier for low dimensional test data\n",
        "KNN_classifier(np.transpose(test_data_reduced), array_label_test)"
      ],
      "metadata": {
        "colab": {
          "base_uri": "https://localhost:8080/"
        },
        "id": "2N5Ikyi78dvL",
        "outputId": "f0260ae2-2855-4f11-b150-8e055ec8a87a"
      },
      "execution_count": null,
      "outputs": [
        {
          "output_type": "stream",
          "name": "stdout",
          "text": [
            "(1, 100)\n",
            "(1, 100)\n",
            "0.6666666666666666\n",
            "0.6666666666666666\n"
          ]
        }
      ]
    },
    {
      "cell_type": "markdown",
      "source": [
        "By trying values of L between 1 and 20, I noticed that values of L between 15-20 provided the closest possible accuracy for the data which was closest to the result from part a."
      ],
      "metadata": {
        "id": "u8CBVrQVBhq7"
      }
    },
    {
      "cell_type": "markdown",
      "source": [],
      "metadata": {
        "id": "4quAJaxCBhjb"
      }
    }
  ]
}